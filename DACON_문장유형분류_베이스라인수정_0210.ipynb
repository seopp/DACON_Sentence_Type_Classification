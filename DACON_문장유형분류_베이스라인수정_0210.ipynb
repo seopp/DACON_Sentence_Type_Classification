{
  "cells": [
    {
      "cell_type": "markdown",
      "metadata": {
        "id": "view-in-github",
        "colab_type": "text"
      },
      "source": [
        "<a href=\"https://colab.research.google.com/github/seopp/DACON_Sentence_Type_Classification/blob/main/DACON_%EB%AC%B8%EC%9E%A5%EC%9C%A0%ED%98%95%EB%B6%84%EB%A5%98_%EB%B2%A0%EC%9D%B4%EC%8A%A4%EB%9D%BC%EC%9D%B8%EC%88%98%EC%A0%95_0210.ipynb\" target=\"_parent\"><img src=\"https://colab.research.google.com/assets/colab-badge.svg\" alt=\"Open In Colab\"/></a>"
      ]
    },
    {
      "cell_type": "code",
      "source": [
        "from google.colab import drive\n",
        "drive.mount('/content/drive')"
      ],
      "metadata": {
        "colab": {
          "base_uri": "https://localhost:8080/"
        },
        "id": "7kYb__TZ6i65",
        "outputId": "076774ef-c6a9-43ef-c8c6-331a88c9475f"
      },
      "id": "7kYb__TZ6i65",
      "execution_count": 5,
      "outputs": [
        {
          "output_type": "stream",
          "name": "stdout",
          "text": [
            "Drive already mounted at /content/drive; to attempt to forcibly remount, call drive.mount(\"/content/drive\", force_remount=True).\n"
          ]
        }
      ]
    },
    {
      "cell_type": "code",
      "source": [
        "# !pip install transformers"
      ],
      "metadata": {
        "id": "TB6xtZ7VNmd0"
      },
      "id": "TB6xtZ7VNmd0",
      "execution_count": 6,
      "outputs": []
    },
    {
      "cell_type": "markdown",
      "id": "a2bcba5f-002e-4f49-9622-ada6117faf0a",
      "metadata": {
        "id": "a2bcba5f-002e-4f49-9622-ada6117faf0a"
      },
      "source": [
        "## Import"
      ]
    },
    {
      "cell_type": "code",
      "execution_count": 7,
      "id": "2b0d9b68-7102-4eca-9543-3b9b8acafc6e",
      "metadata": {
        "id": "2b0d9b68-7102-4eca-9543-3b9b8acafc6e"
      },
      "outputs": [],
      "source": [
        "import pandas as pd\n",
        "import numpy as np\n",
        "import torch\n",
        "import os\n",
        "import random\n",
        "from sklearn.model_selection import train_test_split\n",
        "from transformers import AutoModel, AutoTokenizer\n",
        "from torch.utils.data import Dataset\n",
        "from torch.utils.data import DataLoader\n",
        "from torch import nn\n",
        "from tqdm import tqdm\n",
        "from sklearn.metrics import f1_score\n",
        "from sklearn.preprocessing import LabelEncoder\n",
        "from sklearn.feature_extraction.text import TfidfVectorizer\n",
        "\n",
        "\n",
        "\n",
        "# for graphing\n",
        "import seaborn as sns\n",
        "import matplotlib.pyplot as plt"
      ]
    },
    {
      "cell_type": "code",
      "execution_count": 8,
      "id": "d13862e3-bb27-47af-9b58-a9fbf804df71",
      "metadata": {
        "id": "d13862e3-bb27-47af-9b58-a9fbf804df71"
      },
      "outputs": [],
      "source": [
        "device = torch.device('cuda') if torch.cuda.is_available() else torch.device('cpu')"
      ]
    },
    {
      "cell_type": "markdown",
      "id": "fc7df3f2-62d0-4499-a46e-47d01699def0",
      "metadata": {
        "id": "fc7df3f2-62d0-4499-a46e-47d01699def0"
      },
      "source": [
        "## Hyperparameter Setting"
      ]
    },
    {
      "cell_type": "code",
      "execution_count": 9,
      "id": "c3367399-9798-4e38-967b-fd2320b9a2b2",
      "metadata": {
        "id": "c3367399-9798-4e38-967b-fd2320b9a2b2"
      },
      "outputs": [],
      "source": [
        "CFG = {\n",
        "    'EPOCHS':10,\n",
        "    'LEARNING_RATE':1e-4,\n",
        "    'BATCH_SIZE':256,\n",
        "    'SEED':41\n",
        "}"
      ]
    },
    {
      "cell_type": "markdown",
      "id": "4254e860-ff82-43ba-bfa3-fcee4eb3ddbd",
      "metadata": {
        "id": "4254e860-ff82-43ba-bfa3-fcee4eb3ddbd"
      },
      "source": [
        "## Fixed RandomSeed"
      ]
    },
    {
      "cell_type": "code",
      "execution_count": 10,
      "id": "101a714b-71b6-4475-a4ce-fa5f98bc2731",
      "metadata": {
        "id": "101a714b-71b6-4475-a4ce-fa5f98bc2731"
      },
      "outputs": [],
      "source": [
        "def seed_everything(seed):\n",
        "    random.seed(seed)\n",
        "    os.environ['PYTHONHASHSEED'] = str(seed)\n",
        "    np.random.seed(seed)\n",
        "    torch.manual_seed(seed)\n",
        "    torch.cuda.manual_seed(seed)\n",
        "    torch.backends.cudnn.deterministic = True\n",
        "    torch.backends.cudnn.benchmark = True\n",
        "\n",
        "seed_everything(CFG['SEED']) # Seed 고정"
      ]
    },
    {
      "cell_type": "markdown",
      "id": "05a4172e-5791-446f-9616-35c09d8bf25a",
      "metadata": {
        "id": "05a4172e-5791-446f-9616-35c09d8bf25a"
      },
      "source": [
        "## Data Load"
      ]
    },
    {
      "cell_type": "code",
      "execution_count": 11,
      "id": "a62c78cd-4f40-4e98-b8a6-1b6f1d906b4d",
      "metadata": {
        "id": "a62c78cd-4f40-4e98-b8a6-1b6f1d906b4d"
      },
      "outputs": [],
      "source": [
        "df = pd.read_csv('/content/drive/MyDrive/DACON/문장유형분류/train.csv')\n",
        "df.drop(columns=['ID'], inplace=True)\n",
        "\n",
        "test = pd.read_csv('/content/drive/MyDrive/DACON/문장유형분류/test.csv')\n",
        "test.drop(columns=['ID'], inplace=True)\n",
        "\n",
        "submission = pd.read_csv('/content/drive/MyDrive/DACON/문장유형분류/sample_submission.csv')"
      ]
    },
    {
      "cell_type": "code",
      "source": [
        "df.tail()"
      ],
      "metadata": {
        "colab": {
          "base_uri": "https://localhost:8080/",
          "height": 206
        },
        "id": "5lM_fahZ6P0V",
        "outputId": "d2a91c4d-bc8a-496c-a0ae-c9689c6ba98e"
      },
      "id": "5lM_fahZ6P0V",
      "execution_count": 12,
      "outputs": [
        {
          "output_type": "execute_result",
          "data": {
            "text/plain": [
              "                                                      문장   유형  극성  시제  확실성  \\\n",
              "16536  ＇신동덤＇은 ＇신비한 동물사전＇과 ＇해리 포터＇ 시리즈를 잇는 마법 어드벤처물로, ...  사실형  긍정  과거   확실   \n",
              "16537  수족냉증은 어릴 때부터 심했으며 관절은 어디 한 곳이 아니고 목, 어깨, 팔꿈치, ...  사실형  긍정  과거   확실   \n",
              "16538  김금희 소설가는 ＂계약서 조정이 그리 어려운가 작가를 격려한다면서 그런 문구 하나 ...  사실형  긍정  과거   확실   \n",
              "16539  1만명이 넘는 방문자수를 기록한 이번 전시회는 총 77개 작품을 넥슨 사옥을 그대로...  사실형  긍정  과거  불확실   \n",
              "16540                                      《목민심서》의 내용이다.  사실형  긍정  현재   확실   \n",
              "\n",
              "               label  \n",
              "16536   사실형-긍정-과거-확실  \n",
              "16537   사실형-긍정-과거-확실  \n",
              "16538   사실형-긍정-과거-확실  \n",
              "16539  사실형-긍정-과거-불확실  \n",
              "16540   사실형-긍정-현재-확실  "
            ],
            "text/html": [
              "\n",
              "  <div id=\"df-4d481476-c4b4-4fa2-a13a-994f33b04421\">\n",
              "    <div class=\"colab-df-container\">\n",
              "      <div>\n",
              "<style scoped>\n",
              "    .dataframe tbody tr th:only-of-type {\n",
              "        vertical-align: middle;\n",
              "    }\n",
              "\n",
              "    .dataframe tbody tr th {\n",
              "        vertical-align: top;\n",
              "    }\n",
              "\n",
              "    .dataframe thead th {\n",
              "        text-align: right;\n",
              "    }\n",
              "</style>\n",
              "<table border=\"1\" class=\"dataframe\">\n",
              "  <thead>\n",
              "    <tr style=\"text-align: right;\">\n",
              "      <th></th>\n",
              "      <th>문장</th>\n",
              "      <th>유형</th>\n",
              "      <th>극성</th>\n",
              "      <th>시제</th>\n",
              "      <th>확실성</th>\n",
              "      <th>label</th>\n",
              "    </tr>\n",
              "  </thead>\n",
              "  <tbody>\n",
              "    <tr>\n",
              "      <th>16536</th>\n",
              "      <td>＇신동덤＇은 ＇신비한 동물사전＇과 ＇해리 포터＇ 시리즈를 잇는 마법 어드벤처물로, ...</td>\n",
              "      <td>사실형</td>\n",
              "      <td>긍정</td>\n",
              "      <td>과거</td>\n",
              "      <td>확실</td>\n",
              "      <td>사실형-긍정-과거-확실</td>\n",
              "    </tr>\n",
              "    <tr>\n",
              "      <th>16537</th>\n",
              "      <td>수족냉증은 어릴 때부터 심했으며 관절은 어디 한 곳이 아니고 목, 어깨, 팔꿈치, ...</td>\n",
              "      <td>사실형</td>\n",
              "      <td>긍정</td>\n",
              "      <td>과거</td>\n",
              "      <td>확실</td>\n",
              "      <td>사실형-긍정-과거-확실</td>\n",
              "    </tr>\n",
              "    <tr>\n",
              "      <th>16538</th>\n",
              "      <td>김금희 소설가는 ＂계약서 조정이 그리 어려운가 작가를 격려한다면서 그런 문구 하나 ...</td>\n",
              "      <td>사실형</td>\n",
              "      <td>긍정</td>\n",
              "      <td>과거</td>\n",
              "      <td>확실</td>\n",
              "      <td>사실형-긍정-과거-확실</td>\n",
              "    </tr>\n",
              "    <tr>\n",
              "      <th>16539</th>\n",
              "      <td>1만명이 넘는 방문자수를 기록한 이번 전시회는 총 77개 작품을 넥슨 사옥을 그대로...</td>\n",
              "      <td>사실형</td>\n",
              "      <td>긍정</td>\n",
              "      <td>과거</td>\n",
              "      <td>불확실</td>\n",
              "      <td>사실형-긍정-과거-불확실</td>\n",
              "    </tr>\n",
              "    <tr>\n",
              "      <th>16540</th>\n",
              "      <td>《목민심서》의 내용이다.</td>\n",
              "      <td>사실형</td>\n",
              "      <td>긍정</td>\n",
              "      <td>현재</td>\n",
              "      <td>확실</td>\n",
              "      <td>사실형-긍정-현재-확실</td>\n",
              "    </tr>\n",
              "  </tbody>\n",
              "</table>\n",
              "</div>\n",
              "      <button class=\"colab-df-convert\" onclick=\"convertToInteractive('df-4d481476-c4b4-4fa2-a13a-994f33b04421')\"\n",
              "              title=\"Convert this dataframe to an interactive table.\"\n",
              "              style=\"display:none;\">\n",
              "        \n",
              "  <svg xmlns=\"http://www.w3.org/2000/svg\" height=\"24px\"viewBox=\"0 0 24 24\"\n",
              "       width=\"24px\">\n",
              "    <path d=\"M0 0h24v24H0V0z\" fill=\"none\"/>\n",
              "    <path d=\"M18.56 5.44l.94 2.06.94-2.06 2.06-.94-2.06-.94-.94-2.06-.94 2.06-2.06.94zm-11 1L8.5 8.5l.94-2.06 2.06-.94-2.06-.94L8.5 2.5l-.94 2.06-2.06.94zm10 10l.94 2.06.94-2.06 2.06-.94-2.06-.94-.94-2.06-.94 2.06-2.06.94z\"/><path d=\"M17.41 7.96l-1.37-1.37c-.4-.4-.92-.59-1.43-.59-.52 0-1.04.2-1.43.59L10.3 9.45l-7.72 7.72c-.78.78-.78 2.05 0 2.83L4 21.41c.39.39.9.59 1.41.59.51 0 1.02-.2 1.41-.59l7.78-7.78 2.81-2.81c.8-.78.8-2.07 0-2.86zM5.41 20L4 18.59l7.72-7.72 1.47 1.35L5.41 20z\"/>\n",
              "  </svg>\n",
              "      </button>\n",
              "      \n",
              "  <style>\n",
              "    .colab-df-container {\n",
              "      display:flex;\n",
              "      flex-wrap:wrap;\n",
              "      gap: 12px;\n",
              "    }\n",
              "\n",
              "    .colab-df-convert {\n",
              "      background-color: #E8F0FE;\n",
              "      border: none;\n",
              "      border-radius: 50%;\n",
              "      cursor: pointer;\n",
              "      display: none;\n",
              "      fill: #1967D2;\n",
              "      height: 32px;\n",
              "      padding: 0 0 0 0;\n",
              "      width: 32px;\n",
              "    }\n",
              "\n",
              "    .colab-df-convert:hover {\n",
              "      background-color: #E2EBFA;\n",
              "      box-shadow: 0px 1px 2px rgba(60, 64, 67, 0.3), 0px 1px 3px 1px rgba(60, 64, 67, 0.15);\n",
              "      fill: #174EA6;\n",
              "    }\n",
              "\n",
              "    [theme=dark] .colab-df-convert {\n",
              "      background-color: #3B4455;\n",
              "      fill: #D2E3FC;\n",
              "    }\n",
              "\n",
              "    [theme=dark] .colab-df-convert:hover {\n",
              "      background-color: #434B5C;\n",
              "      box-shadow: 0px 1px 3px 1px rgba(0, 0, 0, 0.15);\n",
              "      filter: drop-shadow(0px 1px 2px rgba(0, 0, 0, 0.3));\n",
              "      fill: #FFFFFF;\n",
              "    }\n",
              "  </style>\n",
              "\n",
              "      <script>\n",
              "        const buttonEl =\n",
              "          document.querySelector('#df-4d481476-c4b4-4fa2-a13a-994f33b04421 button.colab-df-convert');\n",
              "        buttonEl.style.display =\n",
              "          google.colab.kernel.accessAllowed ? 'block' : 'none';\n",
              "\n",
              "        async function convertToInteractive(key) {\n",
              "          const element = document.querySelector('#df-4d481476-c4b4-4fa2-a13a-994f33b04421');\n",
              "          const dataTable =\n",
              "            await google.colab.kernel.invokeFunction('convertToInteractive',\n",
              "                                                     [key], {});\n",
              "          if (!dataTable) return;\n",
              "\n",
              "          const docLinkHtml = 'Like what you see? Visit the ' +\n",
              "            '<a target=\"_blank\" href=https://colab.research.google.com/notebooks/data_table.ipynb>data table notebook</a>'\n",
              "            + ' to learn more about interactive tables.';\n",
              "          element.innerHTML = '';\n",
              "          dataTable['output_type'] = 'display_data';\n",
              "          await google.colab.output.renderOutput(dataTable, element);\n",
              "          const docLink = document.createElement('div');\n",
              "          docLink.innerHTML = docLinkHtml;\n",
              "          element.appendChild(docLink);\n",
              "        }\n",
              "      </script>\n",
              "    </div>\n",
              "  </div>\n",
              "  "
            ]
          },
          "metadata": {},
          "execution_count": 12
        }
      ]
    },
    {
      "cell_type": "markdown",
      "id": "eadddcd3-67c3-440f-ba33-2615d366108f",
      "metadata": {
        "id": "eadddcd3-67c3-440f-ba33-2615d366108f"
      },
      "source": [
        "## Train / Validation Split"
      ]
    },
    {
      "cell_type": "code",
      "execution_count": 13,
      "id": "a40f7770-b70c-4146-8082-ffc4f3a68593",
      "metadata": {
        "id": "a40f7770-b70c-4146-8082-ffc4f3a68593"
      },
      "outputs": [],
      "source": [
        "# 제공된 학습데이터를 학습 / 검증 데이터셋으로 재 분할\n",
        "train, val, _, _ = train_test_split(df, df['label'], test_size=0.2, random_state=CFG['SEED'])\n",
        "train = train.reset_index(drop=True)\n",
        "val = val.reset_index(drop=True)"
      ]
    },
    {
      "cell_type": "code",
      "source": [
        "model_nm = 'klue/roberta-small'\n",
        "base_model = AutoModel.from_pretrained(model_nm)\n",
        "tokenizer = AutoTokenizer.from_pretrained(model_nm)"
      ],
      "metadata": {
        "id": "582SwjYtM-bP"
      },
      "id": "582SwjYtM-bP",
      "execution_count": null,
      "outputs": []
    },
    {
      "cell_type": "markdown",
      "id": "11fa2def-f91c-4fd5-af02-9587c63f92ba",
      "metadata": {
        "id": "11fa2def-f91c-4fd5-af02-9587c63f92ba"
      },
      "source": [
        "## Pre-processing"
      ]
    },
    {
      "cell_type": "code",
      "source": [
        "type_le = LabelEncoder()\n",
        "train[\"유형\"] = type_le.fit_transform(train[\"유형\"].values)\n",
        "val[\"유형\"] = type_le.transform(val[\"유형\"].values)\n",
        "\n",
        "polarity_le = LabelEncoder()\n",
        "train[\"극성\"] = polarity_le.fit_transform(train[\"극성\"].values)\n",
        "val[\"극성\"] = polarity_le.transform(val[\"극성\"].values)\n",
        "\n",
        "tense_le = LabelEncoder()\n",
        "train[\"시제\"] = tense_le.fit_transform(train[\"시제\"].values)\n",
        "val[\"시제\"] = tense_le.transform(val[\"시제\"].values)\n",
        "\n",
        "certainty_le = LabelEncoder()\n",
        "train[\"확실성\"] = certainty_le.fit_transform(train[\"확실성\"].values)\n",
        "val[\"확실성\"] = certainty_le.transform(val[\"확실성\"].values)\n"
      ],
      "metadata": {
        "id": "dipT7jgbSjvs"
      },
      "id": "dipT7jgbSjvs",
      "execution_count": 15,
      "outputs": []
    },
    {
      "cell_type": "code",
      "source": [
        "train_type = train[\"유형\"].values # sentence type\n",
        "train_polarity = train[\"극성\"].values # sentence polarity\n",
        "train_tense = train[\"시제\"].values # sentence tense\n",
        "train_certainty = train[\"확실성\"].values # sentence certainty\n",
        "\n",
        "train_labels = {\n",
        "    'type' : train_type,\n",
        "    'polarity' : train_polarity,\n",
        "    'tense' : train_tense,\n",
        "    'certainty' : train_certainty\n",
        "}"
      ],
      "metadata": {
        "id": "fr9T_3HzSmHs"
      },
      "id": "fr9T_3HzSmHs",
      "execution_count": 16,
      "outputs": []
    },
    {
      "cell_type": "code",
      "source": [
        "val_type = val[\"유형\"].values # sentence type\n",
        "val_polarity = val[\"극성\"].values # sentence polarity\n",
        "val_tense = val[\"시제\"].values # sentence tense\n",
        "val_certainty = val[\"확실성\"].values # sentence certainty\n",
        "\n",
        "val_labels = {\n",
        "    'type' : val_type,\n",
        "    'polarity' : val_polarity,\n",
        "    'tense' : val_tense,\n",
        "    'certainty' : val_certainty\n",
        "}"
      ],
      "metadata": {
        "id": "BoB0ml9PSrrJ"
      },
      "id": "BoB0ml9PSrrJ",
      "execution_count": 17,
      "outputs": []
    },
    {
      "cell_type": "markdown",
      "id": "ac27ed36-8031-47a7-bd0d-a913513f2e8e",
      "metadata": {
        "id": "ac27ed36-8031-47a7-bd0d-a913513f2e8e"
      },
      "source": [
        "## CustomDataset"
      ]
    },
    {
      "cell_type": "code",
      "source": [
        "class SentenceTypeDataset(Dataset):\n",
        "    def __init__(self, dataframe, tokenizer, labels=None):\n",
        "        texts = dataframe['문장'].values.tolist()\n",
        "        \n",
        "        # return_tensors='pt'는 tensor로 리턴\n",
        "        self.texts = [tokenizer(text, padding='max_length', max_length=90, truncation=True, return_tensors='pt') for text in texts] \n",
        "        self.labels = labels\n",
        "\n",
        "    def __len__(self):\n",
        "        return len(self.texts)\n",
        "\n",
        "    def __getitem__(self, idx):\n",
        "        text = self.texts[idx]\n",
        "\n",
        "        if self.labels is not None:\n",
        "            type_tmp = self.labels['type'][idx]\n",
        "            polarity_tmp = self.labels['polarity'][idx]\n",
        "            tense_tmp = self.labels['tense'][idx]\n",
        "            certainty_tmp = self.labels['certainty'][idx]\n",
        "            # return text, torch.Tensor(type_tmp), torch.Tensor(polarity_tmp), torch.Tensor(tense_tmp), torch.Tensor(certainty_tmp)\n",
        "            return text, type_tmp, polarity_tmp, tense_tmp, certainty_tmp\n",
        "\n",
        "        else:\n",
        "            return text"
      ],
      "metadata": {
        "id": "tZeDSjJoLesv"
      },
      "id": "tZeDSjJoLesv",
      "execution_count": 18,
      "outputs": []
    },
    {
      "cell_type": "code",
      "execution_count": 19,
      "id": "9d880481-1965-499d-9caa-fdfa8526f789",
      "metadata": {
        "id": "9d880481-1965-499d-9caa-fdfa8526f789"
      },
      "outputs": [],
      "source": [
        "train_dataset = SentenceTypeDataset(train, tokenizer, labels = train_labels)\n",
        "train_loader = DataLoader(train_dataset, batch_size = CFG['BATCH_SIZE'], shuffle=True, num_workers=0)\n",
        "\n",
        "val_dataset = SentenceTypeDataset(val, tokenizer, labels = val_labels)\n",
        "val_loader = DataLoader(val_dataset, batch_size = CFG['BATCH_SIZE'], shuffle=False, num_workers=0)"
      ]
    },
    {
      "cell_type": "markdown",
      "id": "39962463-032f-490a-a76d-c03991795f38",
      "metadata": {
        "id": "39962463-032f-490a-a76d-c03991795f38"
      },
      "source": [
        "## Model Define"
      ]
    },
    {
      "cell_type": "code",
      "source": [
        "class SentenceClassifier(nn.Module):\n",
        "    def __init__(self, base_model):\n",
        "        super().__init__()\n",
        "        self.klue = base_model # from transformers package\n",
        "\n",
        "        self.fc1 = nn.Linear(768, 32)\n",
        "        self.relu = nn.ReLU()\n",
        "        self.type_clf = nn.Linear(32,4)\n",
        "        self.polarity_clf = nn.Linear(32,3)\n",
        "        self.tense_clf = nn.Linear(32,3)\n",
        "        self.certainty_clf = nn.Linear(32,2)\n",
        "        self.softmax = nn.Softmax(dim=1)\n",
        "\n",
        "    def forward(self, input_ids, attention_mask):\n",
        "        # input_ids : token's id / attention_mask : make a model to focus on which token\n",
        "        klue_out = self.klue(input_ids= input_ids, attention_mask = attention_mask)[0][:,0]\n",
        "\n",
        "        x = self.fc1(klue_out)\n",
        "        x = self.relu(x)\n",
        "\n",
        "        type_output = self.type_clf(x)\n",
        "        type_output = self.softmax(type_output)\n",
        "        polarity_output = self.polarity_clf(x)\n",
        "        polarity_output = self.softmax(polarity_output)\n",
        "        tense_output = self.tense_clf(x)\n",
        "        tense_output = self.softmax(tense_output)\n",
        "        certainty_output = self.certainty_clf(x)\n",
        "        certainty_output = self.softmax(certainty_output)\n",
        "\n",
        "        return type_output, polarity_output, tense_output, certainty_output"
      ],
      "metadata": {
        "id": "kP5H1kR_M_sY"
      },
      "id": "kP5H1kR_M_sY",
      "execution_count": 20,
      "outputs": []
    },
    {
      "cell_type": "markdown",
      "id": "122af0aa-a1fd-4595-9488-35761e3cb596",
      "metadata": {
        "id": "122af0aa-a1fd-4595-9488-35761e3cb596"
      },
      "source": [
        "## Train"
      ]
    },
    {
      "cell_type": "code",
      "source": [
        "def train(model, optimizer, train_loader, val_loader, scheduler, device):\n",
        "    model.to(device)\n",
        "    \n",
        "    criterion = {\n",
        "        'type' : nn.CrossEntropyLoss().to(device),\n",
        "        'polarity' : nn.CrossEntropyLoss().to(device),\n",
        "        'tense' : nn.CrossEntropyLoss().to(device),\n",
        "        'certainty' : nn.CrossEntropyLoss().to(device)\n",
        "    }\n",
        "    \n",
        "    best_loss = 999999\n",
        "    best_model = None\n",
        "    \n",
        "    # optimizer = torch.optim.Adam(model.parameters(), lr=CFG['LEARNING_RATE'])\n",
        "\n",
        "    \n",
        "    for epoch in range(1, CFG['EPOCHS']+1):\n",
        "        model.train()\n",
        "        train_loss = []\n",
        "        for sentence, type_label, polarity_label, tense_label, certainty_label in tqdm(iter(train_loader)):\n",
        "\n",
        "            attention_mask = sentence['attention_mask'].to(device)\n",
        "            input_ids = sentence['input_ids'].squeeze(1).to(device)\n",
        "\n",
        "            type_label = type_label.to(device)\n",
        "            polarity_label = polarity_label.to(device)\n",
        "            tense_label = tense_label.to(device)\n",
        "            certainty_label = certainty_label.to(device)\n",
        "            \n",
        "            optimizer.zero_grad()\n",
        "            \n",
        "            type_logit, polarity_logit, tense_logit, certainty_logit = model(input_ids, attention_mask)\n",
        "            \n",
        "            loss = 0.25 * criterion['type'](type_logit, type_label) + \\\n",
        "                    0.25 * criterion['polarity'](polarity_logit, polarity_label) + \\\n",
        "                    0.25 * criterion['tense'](tense_logit, tense_label) + \\\n",
        "                    0.25 * criterion['certainty'](certainty_logit, certainty_label)\n",
        "            \n",
        "            loss.backward()\n",
        "            optimizer.step()\n",
        "            \n",
        "            train_loss.append(loss.item())\n",
        "        \n",
        "        val_loss, val_type_f1, val_polarity_f1, val_tense_f1, val_certainty_f1 = validation(model, val_loader, criterion, device)\n",
        "        print(f'Epoch : [{epoch}] Train Loss : [{np.mean(train_loss):.5f}] Val Loss : [{val_loss:.5f}] 유형 F1 : [{val_type_f1:.5f}] 극성 F1 : [{val_polarity_f1:.5f}] 시제 F1 : [{val_tense_f1:.5f}] 확실성 F1 : [{val_certainty_f1:.5f}]')\n",
        "        \n",
        "        if scheduler is not None:\n",
        "            scheduler.step(val_loss)\n",
        "            \n",
        "        if best_loss > val_loss:\n",
        "            best_loss = val_loss\n",
        "            best_model = model\n",
        "            \n",
        "    return best_model"
      ],
      "metadata": {
        "id": "_GsdtEvYOPXn"
      },
      "id": "_GsdtEvYOPXn",
      "execution_count": 21,
      "outputs": []
    },
    {
      "cell_type": "markdown",
      "source": [
        "## Validation\n"
      ],
      "metadata": {
        "id": "FYYLMupXPyUD"
      },
      "id": "FYYLMupXPyUD"
    },
    {
      "cell_type": "code",
      "execution_count": 22,
      "id": "82449166-e798-491e-94f1-d42f8f0fa35f",
      "metadata": {
        "id": "82449166-e798-491e-94f1-d42f8f0fa35f"
      },
      "outputs": [],
      "source": [
        "def validation(model, val_loader, criterion, device):\n",
        "    model.eval()\n",
        "    val_loss = []\n",
        "    \n",
        "    type_preds, polarity_preds, tense_preds, certainty_preds = [], [], [], []\n",
        "    type_labels, polarity_labels, tense_labels, certainty_labels = [], [], [], []\n",
        "    \n",
        "    \n",
        "    with torch.no_grad():\n",
        "        for sentence, type_label, polarity_label, tense_label, certainty_label in tqdm(iter(val_loader)):\n",
        "            attention_mask = sentence['attention_mask'].to(device)\n",
        "            input_ids = sentence['input_ids'].squeeze(1).to(device)\n",
        "\n",
        "            type_label = type_label.to(device)\n",
        "            polarity_label = polarity_label.to(device)\n",
        "            tense_label = tense_label.to(device)\n",
        "            certainty_label = certainty_label.to(device)\n",
        "            \n",
        "            type_logit, polarity_logit, tense_logit, certainty_logit = model(input_ids, attention_mask)\n",
        "            \n",
        "            loss = 0.25 * criterion['type'](type_logit, type_label) + \\\n",
        "                    0.25 * criterion['polarity'](polarity_logit, polarity_label) + \\\n",
        "                    0.25 * criterion['tense'](tense_logit, tense_label) + \\\n",
        "                    0.25 * criterion['certainty'](certainty_logit, certainty_label)\n",
        "            \n",
        "            val_loss.append(loss.item())\n",
        "            \n",
        "            type_preds += type_logit.argmax(1).detach().cpu().numpy().tolist()\n",
        "            type_labels += type_label.detach().cpu().numpy().tolist()\n",
        "            \n",
        "            polarity_preds += polarity_logit.argmax(1).detach().cpu().numpy().tolist()\n",
        "            polarity_labels += polarity_label.detach().cpu().numpy().tolist()\n",
        "            \n",
        "            tense_preds += tense_logit.argmax(1).detach().cpu().numpy().tolist()\n",
        "            tense_labels += tense_label.detach().cpu().numpy().tolist()\n",
        "            \n",
        "            certainty_preds += certainty_logit.argmax(1).detach().cpu().numpy().tolist()\n",
        "            certainty_labels += certainty_label.detach().cpu().numpy().tolist()\n",
        "    \n",
        "    type_f1 = f1_score(type_labels, type_preds, average='weighted')\n",
        "    polarity_f1 = f1_score(polarity_labels, polarity_preds, average='weighted')\n",
        "    tense_f1 = f1_score(tense_labels, tense_preds, average='weighted')\n",
        "    certainty_f1 = f1_score(certainty_labels, certainty_preds, average='weighted')\n",
        "    \n",
        "    return np.mean(val_loss), type_f1, polarity_f1, tense_f1, certainty_f1"
      ]
    },
    {
      "cell_type": "markdown",
      "id": "51da39f9-904f-4abd-a7d2-cdf29c4a6c24",
      "metadata": {
        "id": "51da39f9-904f-4abd-a7d2-cdf29c4a6c24"
      },
      "source": [
        "## Run!!"
      ]
    },
    {
      "cell_type": "code",
      "execution_count": 23,
      "id": "86142d9a-68b7-4d04-8423-49d28025411d",
      "metadata": {
        "tags": [],
        "colab": {
          "base_uri": "https://localhost:8080/"
        },
        "id": "86142d9a-68b7-4d04-8423-49d28025411d",
        "outputId": "9fa646fd-8e0a-4b27-f5da-89f3779146dc"
      },
      "outputs": [
        {
          "metadata": {
            "tags": null
          },
          "name": "stderr",
          "output_type": "stream",
          "text": [
            "100%|██████████| 52/52 [01:27<00:00,  1.69s/it]\n",
            "100%|██████████| 13/13 [00:07<00:00,  1.82it/s]\n"
          ]
        },
        {
          "metadata": {
            "tags": null
          },
          "name": "stdout",
          "output_type": "stream",
          "text": [
            "Epoch : [1] Train Loss : [0.83772] Val Loss : [0.76403] 유형 F1 : [0.73452] 극성 F1 : [0.93030] 시제 F1 : [0.80505] 확실성 F1 : [0.87274]\n"
          ]
        },
        {
          "metadata": {
            "tags": null
          },
          "name": "stderr",
          "output_type": "stream",
          "text": [
            "100%|██████████| 52/52 [01:24<00:00,  1.63s/it]\n",
            "100%|██████████| 13/13 [00:07<00:00,  1.82it/s]\n"
          ]
        },
        {
          "metadata": {
            "tags": null
          },
          "name": "stdout",
          "output_type": "stream",
          "text": [
            "Epoch : [2] Train Loss : [0.72375] Val Loss : [0.68951] 유형 F1 : [0.77461] 극성 F1 : [0.93030] 시제 F1 : [0.88923] 확실성 F1 : [0.91219]\n"
          ]
        },
        {
          "output_type": "stream",
          "name": "stderr",
          "text": [
            "100%|██████████| 52/52 [01:24<00:00,  1.63s/it]\n",
            "100%|██████████| 13/13 [00:07<00:00,  1.81it/s]\n"
          ]
        },
        {
          "output_type": "stream",
          "name": "stdout",
          "text": [
            "Epoch : [3] Train Loss : [0.66695] Val Loss : [0.65931] 유형 F1 : [0.78562] 극성 F1 : [0.93030] 시제 F1 : [0.88362] 확실성 F1 : [0.89582]\n"
          ]
        },
        {
          "output_type": "stream",
          "name": "stderr",
          "text": [
            "100%|██████████| 52/52 [01:24<00:00,  1.63s/it]\n",
            "100%|██████████| 13/13 [00:07<00:00,  1.81it/s]\n"
          ]
        },
        {
          "output_type": "stream",
          "name": "stdout",
          "text": [
            "Epoch : [4] Train Loss : [0.64005] Val Loss : [0.64049] 유형 F1 : [0.81445] 극성 F1 : [0.93030] 시제 F1 : [0.89356] 확실성 F1 : [0.91461]\n"
          ]
        },
        {
          "output_type": "stream",
          "name": "stderr",
          "text": [
            "100%|██████████| 52/52 [01:24<00:00,  1.63s/it]\n",
            "100%|██████████| 13/13 [00:07<00:00,  1.82it/s]\n"
          ]
        },
        {
          "output_type": "stream",
          "name": "stdout",
          "text": [
            "Epoch : [5] Train Loss : [0.62303] Val Loss : [0.63266] 유형 F1 : [0.84537] 극성 F1 : [0.93030] 시제 F1 : [0.89126] 확실성 F1 : [0.91707]\n"
          ]
        },
        {
          "output_type": "stream",
          "name": "stderr",
          "text": [
            "100%|██████████| 52/52 [01:24<00:00,  1.63s/it]\n",
            "100%|██████████| 13/13 [00:07<00:00,  1.81it/s]\n"
          ]
        },
        {
          "output_type": "stream",
          "name": "stdout",
          "text": [
            "Epoch : [6] Train Loss : [0.61146] Val Loss : [0.62962] 유형 F1 : [0.87214] 극성 F1 : [0.93030] 시제 F1 : [0.88641] 확실성 F1 : [0.92717]\n"
          ]
        },
        {
          "output_type": "stream",
          "name": "stderr",
          "text": [
            "100%|██████████| 52/52 [01:24<00:00,  1.63s/it]\n",
            "100%|██████████| 13/13 [00:07<00:00,  1.81it/s]\n"
          ]
        },
        {
          "output_type": "stream",
          "name": "stdout",
          "text": [
            "Epoch : [7] Train Loss : [0.60282] Val Loss : [0.62809] 유형 F1 : [0.87074] 극성 F1 : [0.93030] 시제 F1 : [0.88507] 확실성 F1 : [0.91880]\n"
          ]
        },
        {
          "output_type": "stream",
          "name": "stderr",
          "text": [
            "100%|██████████| 52/52 [01:24<00:00,  1.62s/it]\n",
            "100%|██████████| 13/13 [00:07<00:00,  1.81it/s]\n"
          ]
        },
        {
          "output_type": "stream",
          "name": "stdout",
          "text": [
            "Epoch : [8] Train Loss : [0.60103] Val Loss : [0.63133] 유형 F1 : [0.86753] 극성 F1 : [0.93030] 시제 F1 : [0.88011] 확실성 F1 : [0.92177]\n"
          ]
        },
        {
          "output_type": "stream",
          "name": "stderr",
          "text": [
            "100%|██████████| 52/52 [01:24<00:00,  1.63s/it]\n",
            "100%|██████████| 13/13 [00:07<00:00,  1.82it/s]\n"
          ]
        },
        {
          "output_type": "stream",
          "name": "stdout",
          "text": [
            "Epoch : [9] Train Loss : [0.59657] Val Loss : [0.62534] 유형 F1 : [0.87152] 극성 F1 : [0.93030] 시제 F1 : [0.88692] 확실성 F1 : [0.92598]\n"
          ]
        },
        {
          "output_type": "stream",
          "name": "stderr",
          "text": [
            "100%|██████████| 52/52 [01:24<00:00,  1.63s/it]\n",
            "100%|██████████| 13/13 [00:07<00:00,  1.82it/s]"
          ]
        },
        {
          "output_type": "stream",
          "name": "stdout",
          "text": [
            "Epoch : [10] Train Loss : [0.59546] Val Loss : [0.62608] 유형 F1 : [0.86746] 극성 F1 : [0.93030] 시제 F1 : [0.88805] 확실성 F1 : [0.92742]\n"
          ]
        },
        {
          "output_type": "stream",
          "name": "stderr",
          "text": [
            "\n"
          ]
        }
      ],
      "source": [
        "model = SentenceClassifier(base_model)\n",
        "model.eval()\n",
        "optimizer = torch.optim.Adam(params = model.parameters(), lr = CFG[\"LEARNING_RATE\"])\n",
        "scheduler = torch.optim.lr_scheduler.ReduceLROnPlateau(optimizer, mode='min', factor=0.5, patience=2,threshold_mode='abs',min_lr=1e-8, verbose=True)\n",
        "\n",
        "infer_model = train(model, optimizer, train_loader, val_loader, scheduler, device)"
      ]
    },
    {
      "cell_type": "markdown",
      "id": "e1bfd18b-26d7-4368-ad15-a4eac7f5a24b",
      "metadata": {
        "id": "e1bfd18b-26d7-4368-ad15-a4eac7f5a24b"
      },
      "source": [
        "## Inference"
      ]
    },
    {
      "cell_type": "code",
      "execution_count": 24,
      "id": "1a2aa237-c7cc-4038-aeb2-be86641c93b0",
      "metadata": {
        "id": "1a2aa237-c7cc-4038-aeb2-be86641c93b0"
      },
      "outputs": [],
      "source": [
        "test_dataset = SentenceTypeDataset(test, tokenizer, None)\n",
        "test_loader = DataLoader(test_dataset, batch_size=CFG['BATCH_SIZE'], shuffle=False, num_workers=0)"
      ]
    },
    {
      "cell_type": "code",
      "execution_count": 28,
      "id": "81ccae37-6540-4559-a277-eb1db1202505",
      "metadata": {
        "id": "81ccae37-6540-4559-a277-eb1db1202505"
      },
      "outputs": [],
      "source": [
        "def inference(model, test_loader, device):\n",
        "    model.to(device)\n",
        "    model.eval()\n",
        "    \n",
        "    type_preds, polarity_preds, tense_preds, certainty_preds = [], [], [], []\n",
        "    \n",
        "    with torch.no_grad():\n",
        "        for sentence in tqdm(test_loader):\n",
        "            attention_mask = sentence['attention_mask'].to(device)\n",
        "            input_ids = sentence['input_ids'].squeeze(1).to(device)\n",
        "                        \n",
        "            type_logit, polarity_logit, tense_logit, certainty_logit = model(input_ids, attention_mask)\n",
        "            \n",
        "            type_preds += type_logit.argmax(1).detach().cpu().numpy().tolist()\n",
        "            polarity_preds += polarity_logit.argmax(1).detach().cpu().numpy().tolist()\n",
        "            tense_preds += tense_logit.argmax(1).detach().cpu().numpy().tolist()\n",
        "            certainty_preds += certainty_logit.argmax(1).detach().cpu().numpy().tolist()\n",
        "            \n",
        "    return type_preds, polarity_preds, tense_preds, certainty_preds"
      ]
    },
    {
      "cell_type": "code",
      "execution_count": 29,
      "id": "44f67488-8186-48a6-a2ae-a58b47b8a7a8",
      "metadata": {
        "colab": {
          "base_uri": "https://localhost:8080/"
        },
        "id": "44f67488-8186-48a6-a2ae-a58b47b8a7a8",
        "outputId": "47657ea2-73c1-4239-a3b6-01fa39359cf7"
      },
      "outputs": [
        {
          "output_type": "stream",
          "name": "stderr",
          "text": [
            "100%|██████████| 28/28 [00:16<00:00,  1.71it/s]\n"
          ]
        }
      ],
      "source": [
        "type_preds, polarity_preds, tense_preds, certainty_preds = inference(model, test_loader, device)"
      ]
    },
    {
      "cell_type": "code",
      "execution_count": 30,
      "id": "bf388716-b607-4901-b55d-d95bb683c4c7",
      "metadata": {
        "id": "bf388716-b607-4901-b55d-d95bb683c4c7"
      },
      "outputs": [],
      "source": [
        "type_preds = type_le.inverse_transform(type_preds)\n",
        "polarity_preds = polarity_le.inverse_transform(polarity_preds)\n",
        "tense_preds = tense_le.inverse_transform(tense_preds)\n",
        "certainty_preds = certainty_le.inverse_transform(certainty_preds)"
      ]
    },
    {
      "cell_type": "code",
      "execution_count": 31,
      "id": "ab06deec-14dc-47c3-aa50-78a1d5a799e6",
      "metadata": {
        "id": "ab06deec-14dc-47c3-aa50-78a1d5a799e6"
      },
      "outputs": [],
      "source": [
        "predictions = []\n",
        "for type_pred, polarity_pred, tense_pred, certainty_pred in zip(type_preds, polarity_preds, tense_preds, certainty_preds):\n",
        "    predictions.append(type_pred+'-'+polarity_pred+'-'+tense_pred+'-'+certainty_pred)"
      ]
    },
    {
      "cell_type": "markdown",
      "id": "c3857a4f-35e4-45d0-a90c-33e5a15393a0",
      "metadata": {
        "id": "c3857a4f-35e4-45d0-a90c-33e5a15393a0"
      },
      "source": [
        "## Submission"
      ]
    },
    {
      "cell_type": "code",
      "execution_count": 32,
      "id": "8a468229-d84b-4027-8884-22847e54450b",
      "metadata": {
        "id": "8a468229-d84b-4027-8884-22847e54450b"
      },
      "outputs": [],
      "source": [
        "submission['label'] = predictions"
      ]
    },
    {
      "cell_type": "code",
      "execution_count": 33,
      "id": "0336e757-46c7-4cb5-aa70-48a2710acaa5",
      "metadata": {
        "id": "0336e757-46c7-4cb5-aa70-48a2710acaa5",
        "outputId": "06efb76f-204a-4262-b509-2afee51cfbae",
        "colab": {
          "base_uri": "https://localhost:8080/",
          "height": 206
        }
      },
      "outputs": [
        {
          "output_type": "execute_result",
          "data": {
            "text/plain": [
              "          ID         label\n",
              "0  TEST_0000  사실형-긍정-현재-확실\n",
              "1  TEST_0001  사실형-긍정-현재-확실\n",
              "2  TEST_0002  사실형-긍정-과거-확실\n",
              "3  TEST_0003  사실형-긍정-현재-확실\n",
              "4  TEST_0004  사실형-긍정-과거-확실"
            ],
            "text/html": [
              "\n",
              "  <div id=\"df-fbd8a310-e257-4659-a4b8-fcbce2dea297\">\n",
              "    <div class=\"colab-df-container\">\n",
              "      <div>\n",
              "<style scoped>\n",
              "    .dataframe tbody tr th:only-of-type {\n",
              "        vertical-align: middle;\n",
              "    }\n",
              "\n",
              "    .dataframe tbody tr th {\n",
              "        vertical-align: top;\n",
              "    }\n",
              "\n",
              "    .dataframe thead th {\n",
              "        text-align: right;\n",
              "    }\n",
              "</style>\n",
              "<table border=\"1\" class=\"dataframe\">\n",
              "  <thead>\n",
              "    <tr style=\"text-align: right;\">\n",
              "      <th></th>\n",
              "      <th>ID</th>\n",
              "      <th>label</th>\n",
              "    </tr>\n",
              "  </thead>\n",
              "  <tbody>\n",
              "    <tr>\n",
              "      <th>0</th>\n",
              "      <td>TEST_0000</td>\n",
              "      <td>사실형-긍정-현재-확실</td>\n",
              "    </tr>\n",
              "    <tr>\n",
              "      <th>1</th>\n",
              "      <td>TEST_0001</td>\n",
              "      <td>사실형-긍정-현재-확실</td>\n",
              "    </tr>\n",
              "    <tr>\n",
              "      <th>2</th>\n",
              "      <td>TEST_0002</td>\n",
              "      <td>사실형-긍정-과거-확실</td>\n",
              "    </tr>\n",
              "    <tr>\n",
              "      <th>3</th>\n",
              "      <td>TEST_0003</td>\n",
              "      <td>사실형-긍정-현재-확실</td>\n",
              "    </tr>\n",
              "    <tr>\n",
              "      <th>4</th>\n",
              "      <td>TEST_0004</td>\n",
              "      <td>사실형-긍정-과거-확실</td>\n",
              "    </tr>\n",
              "  </tbody>\n",
              "</table>\n",
              "</div>\n",
              "      <button class=\"colab-df-convert\" onclick=\"convertToInteractive('df-fbd8a310-e257-4659-a4b8-fcbce2dea297')\"\n",
              "              title=\"Convert this dataframe to an interactive table.\"\n",
              "              style=\"display:none;\">\n",
              "        \n",
              "  <svg xmlns=\"http://www.w3.org/2000/svg\" height=\"24px\"viewBox=\"0 0 24 24\"\n",
              "       width=\"24px\">\n",
              "    <path d=\"M0 0h24v24H0V0z\" fill=\"none\"/>\n",
              "    <path d=\"M18.56 5.44l.94 2.06.94-2.06 2.06-.94-2.06-.94-.94-2.06-.94 2.06-2.06.94zm-11 1L8.5 8.5l.94-2.06 2.06-.94-2.06-.94L8.5 2.5l-.94 2.06-2.06.94zm10 10l.94 2.06.94-2.06 2.06-.94-2.06-.94-.94-2.06-.94 2.06-2.06.94z\"/><path d=\"M17.41 7.96l-1.37-1.37c-.4-.4-.92-.59-1.43-.59-.52 0-1.04.2-1.43.59L10.3 9.45l-7.72 7.72c-.78.78-.78 2.05 0 2.83L4 21.41c.39.39.9.59 1.41.59.51 0 1.02-.2 1.41-.59l7.78-7.78 2.81-2.81c.8-.78.8-2.07 0-2.86zM5.41 20L4 18.59l7.72-7.72 1.47 1.35L5.41 20z\"/>\n",
              "  </svg>\n",
              "      </button>\n",
              "      \n",
              "  <style>\n",
              "    .colab-df-container {\n",
              "      display:flex;\n",
              "      flex-wrap:wrap;\n",
              "      gap: 12px;\n",
              "    }\n",
              "\n",
              "    .colab-df-convert {\n",
              "      background-color: #E8F0FE;\n",
              "      border: none;\n",
              "      border-radius: 50%;\n",
              "      cursor: pointer;\n",
              "      display: none;\n",
              "      fill: #1967D2;\n",
              "      height: 32px;\n",
              "      padding: 0 0 0 0;\n",
              "      width: 32px;\n",
              "    }\n",
              "\n",
              "    .colab-df-convert:hover {\n",
              "      background-color: #E2EBFA;\n",
              "      box-shadow: 0px 1px 2px rgba(60, 64, 67, 0.3), 0px 1px 3px 1px rgba(60, 64, 67, 0.15);\n",
              "      fill: #174EA6;\n",
              "    }\n",
              "\n",
              "    [theme=dark] .colab-df-convert {\n",
              "      background-color: #3B4455;\n",
              "      fill: #D2E3FC;\n",
              "    }\n",
              "\n",
              "    [theme=dark] .colab-df-convert:hover {\n",
              "      background-color: #434B5C;\n",
              "      box-shadow: 0px 1px 3px 1px rgba(0, 0, 0, 0.15);\n",
              "      filter: drop-shadow(0px 1px 2px rgba(0, 0, 0, 0.3));\n",
              "      fill: #FFFFFF;\n",
              "    }\n",
              "  </style>\n",
              "\n",
              "      <script>\n",
              "        const buttonEl =\n",
              "          document.querySelector('#df-fbd8a310-e257-4659-a4b8-fcbce2dea297 button.colab-df-convert');\n",
              "        buttonEl.style.display =\n",
              "          google.colab.kernel.accessAllowed ? 'block' : 'none';\n",
              "\n",
              "        async function convertToInteractive(key) {\n",
              "          const element = document.querySelector('#df-fbd8a310-e257-4659-a4b8-fcbce2dea297');\n",
              "          const dataTable =\n",
              "            await google.colab.kernel.invokeFunction('convertToInteractive',\n",
              "                                                     [key], {});\n",
              "          if (!dataTable) return;\n",
              "\n",
              "          const docLinkHtml = 'Like what you see? Visit the ' +\n",
              "            '<a target=\"_blank\" href=https://colab.research.google.com/notebooks/data_table.ipynb>data table notebook</a>'\n",
              "            + ' to learn more about interactive tables.';\n",
              "          element.innerHTML = '';\n",
              "          dataTable['output_type'] = 'display_data';\n",
              "          await google.colab.output.renderOutput(dataTable, element);\n",
              "          const docLink = document.createElement('div');\n",
              "          docLink.innerHTML = docLinkHtml;\n",
              "          element.appendChild(docLink);\n",
              "        }\n",
              "      </script>\n",
              "    </div>\n",
              "  </div>\n",
              "  "
            ]
          },
          "metadata": {},
          "execution_count": 33
        }
      ],
      "source": [
        "submission.head()"
      ]
    },
    {
      "cell_type": "code",
      "execution_count": 34,
      "id": "ced9ec77-da09-4226-905c-299bd782f3f4",
      "metadata": {
        "id": "ced9ec77-da09-4226-905c-299bd782f3f4"
      },
      "outputs": [],
      "source": [
        "submission.to_csv('baseline_submit.csv', index=False)"
      ]
    }
  ],
  "metadata": {
    "kernelspec": {
      "display_name": "Python 3 (ipykernel)",
      "language": "python",
      "name": "python3"
    },
    "language_info": {
      "codemirror_mode": {
        "name": "ipython",
        "version": 3
      },
      "file_extension": ".py",
      "mimetype": "text/x-python",
      "name": "python",
      "nbconvert_exporter": "python",
      "pygments_lexer": "ipython3",
      "version": "3.8.3"
    },
    "colab": {
      "provenance": [],
      "collapsed_sections": [
        "11fa2def-f91c-4fd5-af02-9587c63f92ba",
        "ac27ed36-8031-47a7-bd0d-a913513f2e8e",
        "39962463-032f-490a-a76d-c03991795f38",
        "122af0aa-a1fd-4595-9488-35761e3cb596",
        "FYYLMupXPyUD"
      ],
      "include_colab_link": true
    },
    "accelerator": "GPU",
    "gpuClass": "standard"
  },
  "nbformat": 4,
  "nbformat_minor": 5
}